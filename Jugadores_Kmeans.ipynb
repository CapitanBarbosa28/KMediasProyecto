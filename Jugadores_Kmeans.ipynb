{
 "cells": [
  {
   "cell_type": "markdown",
   "metadata": {},
   "source": [
    "# Proyecto K-Means para la organización de jugadores de futbol"
   ]
  },
  {
   "cell_type": "markdown",
   "metadata": {},
   "source": [
    "Para empezar el proyecto, importaremos las librerias más esenciales y a medida de que el proyecto vaya requiriendo\n",
    "se agregarán nuevas librerías que nos serán utiles para el proyecto"
   ]
  },
  {
   "cell_type": "code",
   "execution_count": 9,
   "metadata": {},
   "outputs": [],
   "source": [
    "import numpy as np\n",
    "import pandas as pd\n",
    "from sklearn.cluster import KMeans\n",
    "from mpl_toolkits.mplot3d import axes3d\n",
    "import matplotlib.pyplot as plt"
   ]
  },
  {
   "cell_type": "markdown",
   "metadata": {},
   "source": [
    "Jalaremos la información desde un csv el cual tendrá todos los datos necesarios para poder hacer este proyecto, en este caso\n",
    "serán las estadisticas de ataque, defensa y medio de jugadores de futbol\n",
    "Visualizaremos las caracteristicas que hemos recibido para saber que tipo de dato nos enfrentamos, ya sea int o flotante"
   ]
  },
  {
   "cell_type": "code",
   "execution_count": 10,
   "metadata": {},
   "outputs": [
    {
     "name": "stdout",
     "output_type": "stream",
     "text": [
      "<class 'pandas.core.frame.DataFrame'>\n",
      "RangeIndex: 112 entries, 0 to 111\n",
      "Data columns (total 7 columns):\n",
      " #   Column   Non-Null Count  Dtype \n",
      "---  ------   --------------  ----- \n",
      " 0   Nombres  112 non-null    object\n",
      " 1   atk      112 non-null    int64 \n",
      " 2   def      112 non-null    int64 \n",
      " 3   med      112 non-null    int64 \n",
      " 4   fis      112 non-null    int64 \n",
      " 5   reg      112 non-null    int64 \n",
      " 6   pas      112 non-null    int64 \n",
      "dtypes: int64(6), object(1)\n",
      "memory usage: 5.8+ KB\n"
     ]
    }
   ],
   "source": [
    "jugadores=pd.read_csv('D:/Descargas/prueba.csv', engine='python')\n",
    "jugadores.info()\n"
   ]
  },
  {
   "cell_type": "markdown",
   "metadata": {},
   "source": [
    "Para tener una mejor visualización de los datos que vamos a manejar, mostraremos los primeros datos que se encuentren en el csv\n",
    "para poder ver el rango en el que se encuentran los datos"
   ]
  },
  {
   "cell_type": "code",
   "execution_count": 11,
   "metadata": {},
   "outputs": [
    {
     "data": {
      "text/html": [
       "<div>\n",
       "<style scoped>\n",
       "    .dataframe tbody tr th:only-of-type {\n",
       "        vertical-align: middle;\n",
       "    }\n",
       "\n",
       "    .dataframe tbody tr th {\n",
       "        vertical-align: top;\n",
       "    }\n",
       "\n",
       "    .dataframe thead th {\n",
       "        text-align: right;\n",
       "    }\n",
       "</style>\n",
       "<table border=\"1\" class=\"dataframe\">\n",
       "  <thead>\n",
       "    <tr style=\"text-align: right;\">\n",
       "      <th></th>\n",
       "      <th>Nombres</th>\n",
       "      <th>atk</th>\n",
       "      <th>def</th>\n",
       "      <th>med</th>\n",
       "      <th>fis</th>\n",
       "      <th>reg</th>\n",
       "      <th>pas</th>\n",
       "    </tr>\n",
       "  </thead>\n",
       "  <tbody>\n",
       "    <tr>\n",
       "      <th>0</th>\n",
       "      <td>Juan</td>\n",
       "      <td>90</td>\n",
       "      <td>60</td>\n",
       "      <td>75</td>\n",
       "      <td>99</td>\n",
       "      <td>100</td>\n",
       "      <td>82</td>\n",
       "    </tr>\n",
       "    <tr>\n",
       "      <th>1</th>\n",
       "      <td>Felipe</td>\n",
       "      <td>60</td>\n",
       "      <td>75</td>\n",
       "      <td>90</td>\n",
       "      <td>48</td>\n",
       "      <td>64</td>\n",
       "      <td>84</td>\n",
       "    </tr>\n",
       "    <tr>\n",
       "      <th>2</th>\n",
       "      <td>Jafet</td>\n",
       "      <td>60</td>\n",
       "      <td>60</td>\n",
       "      <td>95</td>\n",
       "      <td>61</td>\n",
       "      <td>77</td>\n",
       "      <td>91</td>\n",
       "    </tr>\n",
       "    <tr>\n",
       "      <th>3</th>\n",
       "      <td>Palma</td>\n",
       "      <td>95</td>\n",
       "      <td>60</td>\n",
       "      <td>70</td>\n",
       "      <td>53</td>\n",
       "      <td>54</td>\n",
       "      <td>45</td>\n",
       "    </tr>\n",
       "    <tr>\n",
       "      <th>4</th>\n",
       "      <td>Eduardo</td>\n",
       "      <td>80</td>\n",
       "      <td>80</td>\n",
       "      <td>80</td>\n",
       "      <td>97</td>\n",
       "      <td>78</td>\n",
       "      <td>60</td>\n",
       "    </tr>\n",
       "  </tbody>\n",
       "</table>\n",
       "</div>"
      ],
      "text/plain": [
       "   Nombres  atk  def  med  fis  reg  pas\n",
       "0     Juan   90   60   75   99  100   82\n",
       "1   Felipe   60   75   90   48   64   84\n",
       "2    Jafet   60   60   95   61   77   91\n",
       "3    Palma   95   60   70   53   54   45\n",
       "4  Eduardo   80   80   80   97   78   60"
      ]
     },
     "execution_count": 11,
     "metadata": {},
     "output_type": "execute_result"
    }
   ],
   "source": [
    "jugadores.head()"
   ]
  },
  {
   "cell_type": "raw",
   "metadata": {},
   "source": [
    "Usaremos un metodo llamado \"Metodo codo de Jambú\" para poder obtener la cantidad optima de clusters para este problema\n",
    "La cantidad optima de clusters es cuando la recta deja de bajar.\n",
    "Usaremos 3 clusters en este problema\n",
    "Un comando importante es que quitamos la propiedad de \"nombres\" ya que el metodo KMeans usa solo numeros."
   ]
  },
  {
   "cell_type": "code",
   "execution_count": 70,
   "metadata": {},
   "outputs": [],
   "source": [
    "jugadores_norm= jugadores.drop(['Nombres'],axis=1)\n",
    "wcss = []\n",
    "\n",
    "for i in range(1,7):\n",
    "    kmeans = KMeans(n_clusters = i, max_iter=300)\n",
    "    kmeans.fit(jugadores_norm)\n",
    "    wcss.append(kmeans.inertia_)"
   ]
  },
  {
   "cell_type": "code",
   "execution_count": 71,
   "metadata": {},
   "outputs": [
    {
     "data": {
      "image/png": "[encoded data removed]",
      "text/plain": [
       "<Figure size 432x288 with 1 Axes>"
      ]
     },
     "metadata": {
      "needs_background": "light"
     },
     "output_type": "display_data"
    }
   ],
   "source": [
    "plt.plot(range(1,7),wcss)\n",
    "plt.title(\"Metodo codo de Jambú\")\n",
    "plt.xlabel(\"Num de clusters\")\n",
    "plt.ylabel('WCSS')\n",
    "plt.show()"
   ]
  },
  {
   "cell_type": "markdown",
   "metadata": {},
   "source": [
    "Usamos el metodo Kmeans que recibe el numero de clusters que previamente conseguimos y el maximo de iteraciones en una sola corrida del algoritmo, en este caso, usaremos 300.\n",
    "Despues usaremos el metodo fit para calcular el clustering con los jugadores que tenemos y sus caracteristicas"
   ]
  },
  {
   "cell_type": "code",
   "execution_count": 72,
   "metadata": {},
   "outputs": [
    {
     "data": {
      "text/plain": [
       "KMeans(n_clusters=3)"
      ]
     },
     "execution_count": 72,
     "metadata": {},
     "output_type": "execute_result"
    }
   ],
   "source": [
    "clustering = KMeans(n_clusters = 3, max_iter = 300)\n",
    "clustering.fit(jugadores_norm)"
   ]
  },
  {
   "cell_type": "markdown",
   "metadata": {},
   "source": [
    "Ahora que tenemos los clusters, solo se lo agregaremos como una columna más al objeto original llamado jugadores\n",
    "para poder despues generar un nuevo CSV"
   ]
  },
  {
   "cell_type": "code",
   "execution_count": 73,
   "metadata": {},
   "outputs": [
    {
     "data": {
      "text/html": [
       "<div>\n",
       "<style scoped>\n",
       "    .dataframe tbody tr th:only-of-type {\n",
       "        vertical-align: middle;\n",
       "    }\n",
       "\n",
       "    .dataframe tbody tr th {\n",
       "        vertical-align: top;\n",
       "    }\n",
       "\n",
       "    .dataframe thead th {\n",
       "        text-align: right;\n",
       "    }\n",
       "</style>\n",
       "<table border=\"1\" class=\"dataframe\">\n",
       "  <thead>\n",
       "    <tr style=\"text-align: right;\">\n",
       "      <th></th>\n",
       "      <th>Nombres</th>\n",
       "      <th>atk</th>\n",
       "      <th>def</th>\n",
       "      <th>med</th>\n",
       "      <th>fis</th>\n",
       "      <th>reg</th>\n",
       "      <th>pas</th>\n",
       "      <th>KMeans_Clusters</th>\n",
       "    </tr>\n",
       "  </thead>\n",
       "  <tbody>\n",
       "    <tr>\n",
       "      <th>0</th>\n",
       "      <td>Juan</td>\n",
       "      <td>90</td>\n",
       "      <td>60</td>\n",
       "      <td>75</td>\n",
       "      <td>99</td>\n",
       "      <td>100</td>\n",
       "      <td>82</td>\n",
       "      <td>1</td>\n",
       "    </tr>\n",
       "    <tr>\n",
       "      <th>1</th>\n",
       "      <td>Felipe</td>\n",
       "      <td>60</td>\n",
       "      <td>75</td>\n",
       "      <td>90</td>\n",
       "      <td>48</td>\n",
       "      <td>64</td>\n",
       "      <td>84</td>\n",
       "      <td>2</td>\n",
       "    </tr>\n",
       "    <tr>\n",
       "      <th>2</th>\n",
       "      <td>Jafet</td>\n",
       "      <td>60</td>\n",
       "      <td>60</td>\n",
       "      <td>95</td>\n",
       "      <td>61</td>\n",
       "      <td>77</td>\n",
       "      <td>91</td>\n",
       "      <td>1</td>\n",
       "    </tr>\n",
       "    <tr>\n",
       "      <th>3</th>\n",
       "      <td>Palma</td>\n",
       "      <td>95</td>\n",
       "      <td>60</td>\n",
       "      <td>70</td>\n",
       "      <td>53</td>\n",
       "      <td>54</td>\n",
       "      <td>45</td>\n",
       "      <td>2</td>\n",
       "    </tr>\n",
       "    <tr>\n",
       "      <th>4</th>\n",
       "      <td>Eduardo</td>\n",
       "      <td>80</td>\n",
       "      <td>80</td>\n",
       "      <td>80</td>\n",
       "      <td>97</td>\n",
       "      <td>78</td>\n",
       "      <td>60</td>\n",
       "      <td>0</td>\n",
       "    </tr>\n",
       "  </tbody>\n",
       "</table>\n",
       "</div>"
      ],
      "text/plain": [
       "   Nombres  atk  def  med  fis  reg  pas  KMeans_Clusters\n",
       "0     Juan   90   60   75   99  100   82                1\n",
       "1   Felipe   60   75   90   48   64   84                2\n",
       "2    Jafet   60   60   95   61   77   91                1\n",
       "3    Palma   95   60   70   53   54   45                2\n",
       "4  Eduardo   80   80   80   97   78   60                0"
      ]
     },
     "execution_count": 73,
     "metadata": {},
     "output_type": "execute_result"
    }
   ],
   "source": [
    "jugadores['KMeans_Clusters'] = clustering.labels_\n",
    "jugadores.head()"
   ]
  },
  {
   "cell_type": "markdown",
   "metadata": {},
   "source": [
    "Se usa el analisis de componentes principales para ver como se formaron los clusters, esto reduce la cantidad de \n",
    "variables a analizar para poder representar a las variables originales.\n",
    "Despues, se va a mostrar los valores"
   ]
  },
  {
   "cell_type": "code",
   "execution_count": 74,
   "metadata": {},
   "outputs": [
    {
     "data": {
      "text/html": [
       "<div>\n",
       "<style scoped>\n",
       "    .dataframe tbody tr th:only-of-type {\n",
       "        vertical-align: middle;\n",
       "    }\n",
       "\n",
       "    .dataframe tbody tr th {\n",
       "        vertical-align: top;\n",
       "    }\n",
       "\n",
       "    .dataframe thead th {\n",
       "        text-align: right;\n",
       "    }\n",
       "</style>\n",
       "<table border=\"1\" class=\"dataframe\">\n",
       "  <thead>\n",
       "    <tr style=\"text-align: right;\">\n",
       "      <th></th>\n",
       "      <th>Ataque</th>\n",
       "      <th>Defensa</th>\n",
       "      <th>Media</th>\n",
       "      <th>KMeans_Clusters</th>\n",
       "    </tr>\n",
       "  </thead>\n",
       "  <tbody>\n",
       "    <tr>\n",
       "      <th>0</th>\n",
       "      <td>-19.663951</td>\n",
       "      <td>41.955911</td>\n",
       "      <td>3.341770</td>\n",
       "      <td>1</td>\n",
       "    </tr>\n",
       "    <tr>\n",
       "      <th>1</th>\n",
       "      <td>3.961316</td>\n",
       "      <td>-21.702682</td>\n",
       "      <td>16.437649</td>\n",
       "      <td>2</td>\n",
       "    </tr>\n",
       "    <tr>\n",
       "      <th>2</th>\n",
       "      <td>-11.870861</td>\n",
       "      <td>-5.105075</td>\n",
       "      <td>24.138380</td>\n",
       "      <td>1</td>\n",
       "    </tr>\n",
       "    <tr>\n",
       "      <th>3</th>\n",
       "      <td>36.400001</td>\n",
       "      <td>1.599073</td>\n",
       "      <td>16.206038</td>\n",
       "      <td>2</td>\n",
       "    </tr>\n",
       "    <tr>\n",
       "      <th>4</th>\n",
       "      <td>-14.814259</td>\n",
       "      <td>12.788894</td>\n",
       "      <td>-5.042132</td>\n",
       "      <td>0</td>\n",
       "    </tr>\n",
       "    <tr>\n",
       "      <th>...</th>\n",
       "      <td>...</td>\n",
       "      <td>...</td>\n",
       "      <td>...</td>\n",
       "      <td>...</td>\n",
       "    </tr>\n",
       "    <tr>\n",
       "      <th>107</th>\n",
       "      <td>-36.006380</td>\n",
       "      <td>14.104136</td>\n",
       "      <td>18.146818</td>\n",
       "      <td>1</td>\n",
       "    </tr>\n",
       "    <tr>\n",
       "      <th>108</th>\n",
       "      <td>-12.703710</td>\n",
       "      <td>-13.516185</td>\n",
       "      <td>-8.515722</td>\n",
       "      <td>1</td>\n",
       "    </tr>\n",
       "    <tr>\n",
       "      <th>109</th>\n",
       "      <td>-15.457555</td>\n",
       "      <td>-14.292884</td>\n",
       "      <td>10.410102</td>\n",
       "      <td>0</td>\n",
       "    </tr>\n",
       "    <tr>\n",
       "      <th>110</th>\n",
       "      <td>-1.829264</td>\n",
       "      <td>-19.913643</td>\n",
       "      <td>-35.707746</td>\n",
       "      <td>0</td>\n",
       "    </tr>\n",
       "    <tr>\n",
       "      <th>111</th>\n",
       "      <td>6.947485</td>\n",
       "      <td>-8.565166</td>\n",
       "      <td>3.581743</td>\n",
       "      <td>0</td>\n",
       "    </tr>\n",
       "  </tbody>\n",
       "</table>\n",
       "<p>112 rows × 4 columns</p>\n",
       "</div>"
      ],
      "text/plain": [
       "        Ataque    Defensa      Media  KMeans_Clusters\n",
       "0   -19.663951  41.955911   3.341770                1\n",
       "1     3.961316 -21.702682  16.437649                2\n",
       "2   -11.870861  -5.105075  24.138380                1\n",
       "3    36.400001   1.599073  16.206038                2\n",
       "4   -14.814259  12.788894  -5.042132                0\n",
       "..         ...        ...        ...              ...\n",
       "107 -36.006380  14.104136  18.146818                1\n",
       "108 -12.703710 -13.516185  -8.515722                1\n",
       "109 -15.457555 -14.292884  10.410102                0\n",
       "110  -1.829264 -19.913643 -35.707746                0\n",
       "111   6.947485  -8.565166   3.581743                0\n",
       "\n",
       "[112 rows x 4 columns]"
      ]
     },
     "execution_count": 74,
     "metadata": {},
     "output_type": "execute_result"
    }
   ],
   "source": [
    "from sklearn.decomposition import PCA\n",
    "\n",
    "pca = PCA(n_components=3)\n",
    "pca_jugadores = pca.fit_transform(jugadores_norm)\n",
    "pca_jugadores_df = pd.DataFrame(data=pca_jugadores, columns = ['Ataque','Defensa','Media'] )\n",
    "pca_nombres_jugadores = pd.concat([pca_jugadores_df, jugadores[['KMeans_Clusters']]], axis=1)\n",
    "\n",
    "pca_nombres_jugadores\n"
   ]
  },
  {
   "cell_type": "markdown",
   "metadata": {},
   "source": [
    "Importaremos las librerias requeridas para poder graficar.\n",
    "Para poder graficar los datos que tenemos, asignaremos los colores que queramos, en este caso es azul, verde y naranja\n",
    "Asignaremos las labels para identificar los espacios en el plano 3D, al igual que le mandaremos los datos a graficar\n"
   ]
  },
  {
   "cell_type": "code",
   "execution_count": 75,
   "metadata": {},
   "outputs": [
    {
     "data": {
      "image/png": "[encoded data removed]",
      "text/plain": [
       "<Figure size 432x288 with 1 Axes>"
      ]
     },
     "metadata": {
      "needs_background": "light"
     },
     "output_type": "display_data"
    }
   ],
   "source": [
    "\n",
    "\n",
    "color_theme = np.array([\"blue\",\"green\",\"orange\"])\n",
    "fig = plt.figure()\n",
    "ax1 = fig.add_subplot(111, projection='3d')\n",
    "ax1.set_xlabel('Ataque')\n",
    "ax1.set_ylabel('Defensa')\n",
    "ax1.set_zlabel('Media')\n",
    "ax1.set_title('Componentes principales', fontsize=20)\n",
    "x=pca_nombres_jugadores.Ataque\n",
    "y=pca_nombres_jugadores.Defensa\n",
    "z=pca_nombres_jugadores.Media\n",
    "\n",
    "ax1.scatter(x,y,z,c=color_theme[pca_nombres_jugadores.KMeans_Clusters], s=50)\n",
    "plt.show()"
   ]
  },
  {
   "cell_type": "markdown",
   "metadata": {},
   "source": [
    "Generaremos un nuevo CSV con los datos y sus respectivos clusters."
   ]
  },
  {
   "cell_type": "code",
   "execution_count": 76,
   "metadata": {},
   "outputs": [],
   "source": [
    "jugadores.to_csv('D:/Descargas/jugadoresActualizados2.csv')"
   ]
  },
  {
   "cell_type": "markdown",
   "metadata": {},
   "source": [
    "Importaremos la libreria CSV para leer el CSV que acabamos de generar, crearemos 3 listas para atacantes, defensores y medios\n",
    "respectivamente\n",
    "Leeremos el CSV y a cada lista le asignaremos los datos que sean correspondientes a su nombre."
   ]
  },
  {
   "cell_type": "code",
   "execution_count": 77,
   "metadata": {},
   "outputs": [],
   "source": [
    "import csv,operator\n",
    "atacantes=[]\n",
    "defensas=[]\n",
    "medios=[]\n",
    "with open('D:/Descargas/jugadoresActualizados2.csv', encoding='utf-8') as csvarchivo:\n",
    "    entrada = csv.DictReader(csvarchivo)\n",
    "    for reg in entrada:\n",
    "        dato=reg['Nombres']\n",
    "        if(reg['KMeans_Clusters']=='0'):\n",
    "            atacantes.append(dato)\n",
    "        elif(reg['KMeans_Clusters']=='1'):\n",
    "            defensas.append(dato)\n",
    "        else:\n",
    "            medios.append(dato)"
   ]
  },
  {
   "cell_type": "markdown",
   "metadata": {},
   "source": [
    "Desplegaremos los datos organizados por clasificación, en este caso, atacantes, defensas y medios\n",
    "Y sería todo para acabar el proyecto."
   ]
  },
  {
   "cell_type": "code",
   "execution_count": 78,
   "metadata": {},
   "outputs": [
    {
     "name": "stdout",
     "output_type": "stream",
     "text": [
      "La lista de delanteros es:  ['Eduardo', 'Sergio', 'Fernando Gago', 'Sergio Agüero', 'Gabriel Milito', 'Leandro Cufré', 'Lionel Scaloni', 'Hernán Pellerano', 'Johnatan Bottinelli', 'Rodrigo Palacio', 'Julio Ricardo Cruz', 'Osvaldo Ardiles', 'Ramón Díaz', 'Americo Gallego', 'Luis Monti', 'Iker Casillas', 'José María Gutiérrez \"Guti\"', 'Santiago Cañizares', 'Carlos Marchena', 'Paulino Alcántara *', 'Albert Ferrer', 'Migueli', 'Francisco Carrasco', 'Víctor Muñoz', 'Jon Andoni Goikoetxea', 'Jacinto Quincoces', 'Manchón', 'Puchades', 'Gerardo Torrado', 'Ricardo Osorio', 'Gonzalo Pineda', 'Óscar Rojas', 'Juan Carlos Medina', 'Salvador Carmona', 'Joaquin del Olmo', 'Francisco Javier Cruz', 'Javier Valdivia']\n"
     ]
    }
   ],
   "source": [
    "print(\"La lista de delanteros es: \",atacantes)"
   ]
  },
  {
   "cell_type": "code",
   "execution_count": 79,
   "metadata": {},
   "outputs": [
    {
     "name": "stdout",
     "output_type": "stream",
     "text": [
      "La lista de defensas es:  ['Juan', 'Jafet', 'Carlos Tévez', 'Juan Román Riquelme', 'Mauro Zárate', 'Lisandro López', 'Leandro Somoza', 'Diego Armando Maradona', 'Claudio Borghi', 'Silvio Marzolini', 'Roberto Perfumo', 'Cesc Fábregas', 'Vicente Rodríguez', 'Iván Helguera', 'Rubén Baraja', 'Míchel Salgado', 'David Albelda', 'David Silva', 'Juan Gutiérrez \"Juanito\"', 'Guillermo Amor', 'Juan Manuel Asensi', 'Joaquín Peiró', 'Lucho', 'López Ufarte', 'Josep Fusté', 'Genar Andrinúa', 'Andrés Guardado', 'Gerardo Galindo', 'Manuel Pérez', 'Carlos Hermosillo', 'Luis Hernández', 'Ramón Ramírez']\n"
     ]
    }
   ],
   "source": [
    "print(\"La lista de defensas es: \",defensas)\n"
   ]
  },
  {
   "cell_type": "code",
   "execution_count": 80,
   "metadata": {},
   "outputs": [
    {
     "name": "stdout",
     "output_type": "stream",
     "text": [
      "La lista de medios es:  ['Felipe', 'Palma', 'Hernán Crespo', 'Juan Sebastián Verón', 'Pablo Aimar', 'Javier Saviola', 'Daniel Montenegro', 'Pablo Zabaleta', 'Fernando Redondo', 'Mario Kempes', 'Omar Sívori', 'Raúl González', 'Fernando Torres', 'Carles Puyol', 'Fernando Morientes', 'David Villa', 'Sergio Ramos', 'Xavi Hernández', 'Jesús Navas', 'Andrés Iniesta', 'Joaquín Sánchez', 'Jesús Capitán \"Capi\"', 'Joan Capdevila', 'José Mari Romero', 'Fernando Portillo', 'Javi Navarro', 'Marcos Senna', 'Antonio Puerta', 'Miguel Ángel Nadal', 'José Ramón Alexanko', 'Carles Rexach', 'Pichi Alonso', 'José Mari Bakero', 'Julio Alberto', 'Enrique Castro \"Quini\"', 'Vicente Del Bosque', 'Lapetra', 'Abel Resino', 'Jesús Mari Satrústegui', 'Cuauhtémoc Blanco', 'Ramón Morales', 'Francisco Palencia', 'Zague']\n"
     ]
    }
   ],
   "source": [
    "print(\"La lista de medios es: \",medios)"
   ]
  },
  {
   "cell_type": "code",
   "execution_count": null,
   "metadata": {},
   "outputs": [],
   "source": []
  }
 ],
 "metadata": {
  "kernelspec": {
   "display_name": "Python 3",
   "language": "python",
   "name": "python3"
  },
  "language_info": {
   "codemirror_mode": {
    "name": "ipython",
    "version": 3
   },
   "file_extension": ".py",
   "mimetype": "text/x-python",
   "name": "python",
   "nbconvert_exporter": "python",
   "pygments_lexer": "ipython3",
   "version": "3.8.5"
  }
 },
 "nbformat": 4,
 "nbformat_minor": 4
}
